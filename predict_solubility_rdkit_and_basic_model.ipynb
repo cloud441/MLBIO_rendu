{
 "cells": [
  {
   "cell_type": "markdown",
   "metadata": {
    "id": "UxbRPmkS4LSq"
   },
   "source": [
    "# Machine learning with RDkit - Predict solubility \n",
    "\n",
    "Now that we know how to handle molecule data we will try to do a first machine learning pipeline to predict solubility\n",
    "\n",
    "In this exercise, we will use machine learning to predict solubility of molecules. For this purpose, we will borrow a dataset from rdkit that is originated from the Huuskonen dataset. We will try to predict Aqueous Solubility for molecules that is known as \"logS\". \n",
    "\n",
    "\n",
    "This exercise is divided into 3 parts: Preparing a dataset, training a model and preparing dataset for prediction and applying a predictive model.\n",
    "\n"
   ]
  },
  {
   "cell_type": "markdown",
   "metadata": {
    "id": "FpqVGPg_4QaQ"
   },
   "source": [
    "## Preparing dataset\n",
    "\n",
    "\n",
    "\n",
    "\n",
    "Download the training set from \"https://raw.githubusercontent.com/rdkit/rdkit/master/Docs/Book/data/solubility.train.sdf\".\n",
    "\n"
   ]
  },
  {
   "cell_type": "code",
   "execution_count": 1,
   "metadata": {},
   "outputs": [
    {
     "name": "stdout",
     "output_type": "stream",
     "text": [
      "mkdir: cannot create directory ‘data’: File exists\r\n"
     ]
    }
   ],
   "source": [
    "!mkdir data && cd data && wget https://raw.githubusercontent.com/rdkit/rdkit/master/Docs/Book/data/solubility.train.sdf"
   ]
  },
  {
   "cell_type": "markdown",
   "metadata": {},
   "source": [
    "\n",
    "With the help of rdkit.Chem.SDMolSupplier, get list of molecules contained in this file. You should call this list as **molecule_list**. The option **removeHs=False** should be chosen. \n",
    "\n"
   ]
  },
  {
   "cell_type": "code",
   "execution_count": 2,
   "metadata": {},
   "outputs": [
    {
     "name": "stdout",
     "output_type": "stream",
     "text": [
      "We have 1025 molecules.\n",
      "<class 'rdkit.Chem.rdchem.Mol'>\n"
     ]
    }
   ],
   "source": [
    "import rdkit\n",
    "from rdkit.Chem import SDMolSupplier\n",
    "\n",
    "molecule_list = SDMolSupplier(\"data/solubility.train.sdf\", removeHs=False)\n",
    "\n",
    "print(f\"We have {len(molecule_list)} molecules.\")\n",
    "print(type(molecule_list[0]))"
   ]
  },
  {
   "cell_type": "markdown",
   "metadata": {},
   "source": [
    "\n",
    "Write a function named **calculate_descriptors(mol)** that allows us to calculate descriptors of a molecule. This function takes a Rdkit molecule as input and returns an array vector of descriptors.\n",
    "\n"
   ]
  },
  {
   "cell_type": "code",
   "execution_count": 3,
   "metadata": {},
   "outputs": [],
   "source": [
    "from typing import Dict\n",
    "import numpy as np\n",
    "\n",
    "from rdkit.Chem import Descriptors\n",
    "from rdkit.ML.Descriptors.MoleculeDescriptors import MolecularDescriptorCalculator\n",
    "\n",
    "def calculate_descriptors(mol: rdkit.Chem.rdchem.Mol) -> Dict[str, float]:\n",
    "    descriptor_names = [ desc[0] for desc in Descriptors._descList]\n",
    "\n",
    "    calculator = MolecularDescriptorCalculator(descriptor_names)\n",
    "    mol_descriptors = calculator.CalcDescriptors(mol)\n",
    "    \n",
    "    return {descriptor_names[i]: mol_descriptors[i] for i in range(len(descriptor_names))}\n",
    "    "
   ]
  },
  {
   "cell_type": "markdown",
   "metadata": {},
   "source": [
    "\n",
    "Apply the function **caluclate_descriptors** to the list of molecules **molecule_list** and store the result in a dataframe named **df**. Look at few rows of **df** to see whether the descriptors are calculated.\n",
    "\n",
    "Get alslow the sollubity with the GetProp method\n",
    "\n"
   ]
  },
  {
   "cell_type": "code",
   "execution_count": 4,
   "metadata": {
    "scrolled": true
   },
   "outputs": [
    {
     "data": {
      "text/html": [
       "<div>\n",
       "<style scoped>\n",
       "    .dataframe tbody tr th:only-of-type {\n",
       "        vertical-align: middle;\n",
       "    }\n",
       "\n",
       "    .dataframe tbody tr th {\n",
       "        vertical-align: top;\n",
       "    }\n",
       "\n",
       "    .dataframe thead th {\n",
       "        text-align: right;\n",
       "    }\n",
       "</style>\n",
       "<table border=\"1\" class=\"dataframe\">\n",
       "  <thead>\n",
       "    <tr style=\"text-align: right;\">\n",
       "      <th></th>\n",
       "      <th>MaxEStateIndex</th>\n",
       "      <th>MinEStateIndex</th>\n",
       "      <th>MaxAbsEStateIndex</th>\n",
       "      <th>MinAbsEStateIndex</th>\n",
       "      <th>qed</th>\n",
       "      <th>MolWt</th>\n",
       "      <th>HeavyAtomMolWt</th>\n",
       "      <th>ExactMolWt</th>\n",
       "      <th>NumValenceElectrons</th>\n",
       "      <th>NumRadicalElectrons</th>\n",
       "      <th>...</th>\n",
       "      <th>fr_sulfide</th>\n",
       "      <th>fr_sulfonamd</th>\n",
       "      <th>fr_sulfone</th>\n",
       "      <th>fr_term_acetylene</th>\n",
       "      <th>fr_tetrazole</th>\n",
       "      <th>fr_thiazole</th>\n",
       "      <th>fr_thiocyan</th>\n",
       "      <th>fr_thiophene</th>\n",
       "      <th>fr_unbrch_alkane</th>\n",
       "      <th>fr_urea</th>\n",
       "    </tr>\n",
       "  </thead>\n",
       "  <tbody>\n",
       "    <tr>\n",
       "      <th>0</th>\n",
       "      <td>2.211806</td>\n",
       "      <td>1.343750</td>\n",
       "      <td>2.211806</td>\n",
       "      <td>1.343750</td>\n",
       "      <td>0.468786</td>\n",
       "      <td>72.151</td>\n",
       "      <td>60.055</td>\n",
       "      <td>72.09390</td>\n",
       "      <td>32</td>\n",
       "      <td>0</td>\n",
       "      <td>...</td>\n",
       "      <td>0</td>\n",
       "      <td>0</td>\n",
       "      <td>0</td>\n",
       "      <td>0</td>\n",
       "      <td>0</td>\n",
       "      <td>0</td>\n",
       "      <td>0</td>\n",
       "      <td>0</td>\n",
       "      <td>0</td>\n",
       "      <td>0</td>\n",
       "    </tr>\n",
       "    <tr>\n",
       "      <th>1</th>\n",
       "      <td>1.500000</td>\n",
       "      <td>1.500000</td>\n",
       "      <td>1.500000</td>\n",
       "      <td>1.500000</td>\n",
       "      <td>0.408362</td>\n",
       "      <td>70.135</td>\n",
       "      <td>60.055</td>\n",
       "      <td>70.07825</td>\n",
       "      <td>30</td>\n",
       "      <td>0</td>\n",
       "      <td>...</td>\n",
       "      <td>0</td>\n",
       "      <td>0</td>\n",
       "      <td>0</td>\n",
       "      <td>0</td>\n",
       "      <td>0</td>\n",
       "      <td>0</td>\n",
       "      <td>0</td>\n",
       "      <td>0</td>\n",
       "      <td>0</td>\n",
       "      <td>0</td>\n",
       "    </tr>\n",
       "    <tr>\n",
       "      <th>2</th>\n",
       "      <td>2.231806</td>\n",
       "      <td>1.355000</td>\n",
       "      <td>2.231806</td>\n",
       "      <td>1.355000</td>\n",
       "      <td>0.462954</td>\n",
       "      <td>86.178</td>\n",
       "      <td>72.066</td>\n",
       "      <td>86.10955</td>\n",
       "      <td>38</td>\n",
       "      <td>0</td>\n",
       "      <td>...</td>\n",
       "      <td>0</td>\n",
       "      <td>0</td>\n",
       "      <td>0</td>\n",
       "      <td>0</td>\n",
       "      <td>0</td>\n",
       "      <td>0</td>\n",
       "      <td>0</td>\n",
       "      <td>0</td>\n",
       "      <td>1</td>\n",
       "      <td>0</td>\n",
       "    </tr>\n",
       "    <tr>\n",
       "      <th>3</th>\n",
       "      <td>2.253472</td>\n",
       "      <td>0.898148</td>\n",
       "      <td>2.253472</td>\n",
       "      <td>0.898148</td>\n",
       "      <td>0.483890</td>\n",
       "      <td>86.178</td>\n",
       "      <td>72.066</td>\n",
       "      <td>86.10955</td>\n",
       "      <td>38</td>\n",
       "      <td>0</td>\n",
       "      <td>...</td>\n",
       "      <td>0</td>\n",
       "      <td>0</td>\n",
       "      <td>0</td>\n",
       "      <td>0</td>\n",
       "      <td>0</td>\n",
       "      <td>0</td>\n",
       "      <td>0</td>\n",
       "      <td>0</td>\n",
       "      <td>0</td>\n",
       "      <td>0</td>\n",
       "    </tr>\n",
       "    <tr>\n",
       "      <th>4</th>\n",
       "      <td>2.243056</td>\n",
       "      <td>0.541667</td>\n",
       "      <td>2.243056</td>\n",
       "      <td>0.541667</td>\n",
       "      <td>0.424482</td>\n",
       "      <td>86.178</td>\n",
       "      <td>72.066</td>\n",
       "      <td>86.10955</td>\n",
       "      <td>38</td>\n",
       "      <td>0</td>\n",
       "      <td>...</td>\n",
       "      <td>0</td>\n",
       "      <td>0</td>\n",
       "      <td>0</td>\n",
       "      <td>0</td>\n",
       "      <td>0</td>\n",
       "      <td>0</td>\n",
       "      <td>0</td>\n",
       "      <td>0</td>\n",
       "      <td>0</td>\n",
       "      <td>0</td>\n",
       "    </tr>\n",
       "  </tbody>\n",
       "</table>\n",
       "<p>5 rows × 208 columns</p>\n",
       "</div>"
      ],
      "text/plain": [
       "   MaxEStateIndex  MinEStateIndex  MaxAbsEStateIndex  MinAbsEStateIndex  \\\n",
       "0        2.211806        1.343750           2.211806           1.343750   \n",
       "1        1.500000        1.500000           1.500000           1.500000   \n",
       "2        2.231806        1.355000           2.231806           1.355000   \n",
       "3        2.253472        0.898148           2.253472           0.898148   \n",
       "4        2.243056        0.541667           2.243056           0.541667   \n",
       "\n",
       "        qed   MolWt  HeavyAtomMolWt  ExactMolWt  NumValenceElectrons  \\\n",
       "0  0.468786  72.151          60.055    72.09390                   32   \n",
       "1  0.408362  70.135          60.055    70.07825                   30   \n",
       "2  0.462954  86.178          72.066    86.10955                   38   \n",
       "3  0.483890  86.178          72.066    86.10955                   38   \n",
       "4  0.424482  86.178          72.066    86.10955                   38   \n",
       "\n",
       "   NumRadicalElectrons  ...  fr_sulfide  fr_sulfonamd  fr_sulfone  \\\n",
       "0                    0  ...           0             0           0   \n",
       "1                    0  ...           0             0           0   \n",
       "2                    0  ...           0             0           0   \n",
       "3                    0  ...           0             0           0   \n",
       "4                    0  ...           0             0           0   \n",
       "\n",
       "   fr_term_acetylene  fr_tetrazole  fr_thiazole  fr_thiocyan  fr_thiophene  \\\n",
       "0                  0             0            0            0             0   \n",
       "1                  0             0            0            0             0   \n",
       "2                  0             0            0            0             0   \n",
       "3                  0             0            0            0             0   \n",
       "4                  0             0            0            0             0   \n",
       "\n",
       "   fr_unbrch_alkane  fr_urea  \n",
       "0                 0        0  \n",
       "1                 0        0  \n",
       "2                 1        0  \n",
       "3                 0        0  \n",
       "4                 0        0  \n",
       "\n",
       "[5 rows x 208 columns]"
      ]
     },
     "execution_count": 4,
     "metadata": {},
     "output_type": "execute_result"
    }
   ],
   "source": [
    "import pandas as pd\n",
    "df = pd.DataFrame([calculate_descriptors(mol) for mol in molecule_list])\n",
    "\n",
    "df.head()"
   ]
  },
  {
   "cell_type": "markdown",
   "metadata": {},
   "source": [
    "For each molecule from this dataset, we can get the aqueous solubility (logS) via attribute **getProp('SOL')**. Create a list that contains the aqueous solubility of all molecules from the **molecule_list** list. You should call this list by **labels**. Remember to convert these values to float format.\n",
    "\n",
    "\n"
   ]
  },
  {
   "cell_type": "code",
   "execution_count": 5,
   "metadata": {},
   "outputs": [],
   "source": [
    "labels = [float(mol.GetProp(\"SOL\")) for mol in molecule_list]"
   ]
  },
  {
   "cell_type": "markdown",
   "metadata": {},
   "source": [
    "Plot the histogram of the \"labels\" list to see the distribution of the solubility of molecules. Do you have some comments about the aqueous solubility of molecules ?\n",
    "\n"
   ]
  },
  {
   "cell_type": "code",
   "execution_count": 6,
   "metadata": {},
   "outputs": [
    {
     "data": {
      "text/plain": [
       "(array([  2.,   3.,  20.,  32.,  62., 166., 236., 289., 159.,  56.]),\n",
       " array([-11.62, -10.3 ,  -8.98,  -7.66,  -6.34,  -5.02,  -3.7 ,  -2.38,\n",
       "         -1.06,   0.26,   1.58]),\n",
       " <BarContainer object of 10 artists>)"
      ]
     },
     "execution_count": 6,
     "metadata": {},
     "output_type": "execute_result"
    },
    {
     "data": {
      "image/png": "[encoded data removed]",
      "text/plain": [
       "<Figure size 432x288 with 1 Axes>"
      ]
     },
     "metadata": {
      "needs_background": "light"
     },
     "output_type": "display_data"
    }
   ],
   "source": [
    "import matplotlib.pyplot as plt\n",
    "\n",
    "plt.hist(labels)"
   ]
  },
  {
   "cell_type": "markdown",
   "metadata": {},
   "source": [
    "**Student answer**:\n",
    "\n",
    "our molecules solubility seems to follow a normal law with a mean value of -3 and a std of 2."
   ]
  },
  {
   "cell_type": "markdown",
   "metadata": {
    "id": "KRtVHEjH5M9m"
   },
   "source": [
    "### Feature Engineering \n",
    "\n",
    "Now, we have the **df** dataframe that contains the descriptors for molecules and the **labels** list that contains the solvant property of molecules.\n",
    "\n",
    "Check the dataframe **df** to see whether it contains NaN values. How many row contained NaN values are there in the dataframe **df** ? Remove these rows from  **df** and **labels**.\n",
    "\n"
   ]
  },
  {
   "cell_type": "code",
   "execution_count": 7,
   "metadata": {},
   "outputs": [],
   "source": [
    "na_list = df.isna().any(1)[df.isna().any(1) == True]\n",
    "labels = np.delete(np.array(labels), na_list.index)\n",
    "df.dropna(inplace=True)"
   ]
  },
  {
   "cell_type": "markdown",
   "metadata": {},
   "source": [
    "\n",
    "Apply the MinMaxScaler to the dataframe **df** to normalize the data.\n",
    "\n"
   ]
  },
  {
   "cell_type": "code",
   "execution_count": 8,
   "metadata": {},
   "outputs": [],
   "source": [
    "from sklearn.preprocessing import MinMaxScaler\n",
    "\n",
    "scaler = MinMaxScaler().fit(df)\n",
    "df = scaler.transform(df)"
   ]
  },
  {
   "cell_type": "markdown",
   "metadata": {},
   "source": [
    "Instanciate a linear regression and train it to predict the solubility from the features"
   ]
  },
  {
   "cell_type": "code",
   "execution_count": 9,
   "metadata": {},
   "outputs": [],
   "source": [
    "from sklearn.linear_model import LinearRegression\n",
    "\n",
    "regressor = LinearRegression().fit(df, labels)"
   ]
  },
  {
   "cell_type": "markdown",
   "metadata": {},
   "source": [
    "\n",
    "Calculate the square root error for the dataset"
   ]
  },
  {
   "cell_type": "code",
   "execution_count": 10,
   "metadata": {
    "colab": {
     "base_uri": "https://localhost:8080/",
     "height": 131
    },
    "executionInfo": {
     "elapsed": 244,
     "status": "ok",
     "timestamp": 1629707540847,
     "user": {
      "displayName": "ngoc mac",
      "photoUrl": "",
      "userId": "17981024361133171440"
     },
     "user_tz": -120
    },
    "id": "gWvfR-8x5H84",
    "outputId": "fc0daf45-8dd2-46bf-f7ce-0bd1af9393b9"
   },
   "outputs": [
    {
     "name": "stdout",
     "output_type": "stream",
     "text": [
      "MSE of linear regression is: 0.251\n"
     ]
    }
   ],
   "source": [
    "from sklearn.metrics import mean_squared_error\n",
    "\n",
    "predictions = regressor.predict(df)\n",
    "mse = mean_squared_error(predictions, labels)\n",
    "\n",
    "print(f\"MSE of linear regression is: {round(mse, 3)}\")"
   ]
  },
  {
   "cell_type": "markdown",
   "metadata": {},
   "source": [
    "Plot the differences between prediction and labels"
   ]
  },
  {
   "cell_type": "code",
   "execution_count": 11,
   "metadata": {},
   "outputs": [
    {
     "data": {
      "text/plain": [
       "[<matplotlib.lines.Line2D at 0x7f3819c00ca0>]"
      ]
     },
     "execution_count": 11,
     "metadata": {},
     "output_type": "execute_result"
    },
    {
     "data": {
      "image/png": "[encoded data removed]",
      "text/plain": [
       "<Figure size 432x288 with 1 Axes>"
      ]
     },
     "metadata": {
      "needs_background": "light"
     },
     "output_type": "display_data"
    }
   ],
   "source": [
    "# We plot difference sorted by labels values\n",
    "sort_index = np.argsort(labels)\n",
    "\n",
    "plt.plot(abs(np.take_along_axis(np.array(labels), sort_index, 0) - predictions[sort_index]))"
   ]
  },
  {
   "cell_type": "markdown",
   "metadata": {
    "id": "kESW-Pem5zPX"
   },
   "source": [
    "### Evaluating on test set\n",
    "\n",
    "\n",
    "\n",
    "Download test set from \"https://github.com/rdkit/rdkit/blob/master/Docs/Book/data/solubility.test.sdf\"\n",
    "\n",
    "\n",
    "Note: If there exists problem of reading the file solubility.test.sdf as\n",
    "\"RDKit ERROR: [09:28:36] ERROR: moving to the beginning of the next molecule\n",
    "RDKit ERROR: [09:32:48] ERROR: Counts line too short: '' on line4\"\n",
    "so, go to the url, click \"raw\" and save this file by hand. The error will be gone away\n"
   ]
  },
  {
   "cell_type": "code",
   "execution_count": 12,
   "metadata": {},
   "outputs": [
    {
     "name": "stdout",
     "output_type": "stream",
     "text": [
      "--2022-04-06 14:05:55--  https://raw.githubusercontent.com/rdkit/rdkit/master/Docs/Book/data/solubility.test.sdf\n",
      "SSL_INIT\n",
      "Loaded CA certificate '/etc/ssl/certs/ca-certificates.crt'\n",
      "Resolving raw.githubusercontent.com (raw.githubusercontent.com)... 185.199.109.133, 185.199.110.133, 185.199.111.133, ...\n",
      "Connecting to raw.githubusercontent.com (raw.githubusercontent.com)|185.199.109.133|:443... connected.\n",
      "HTTP request sent, awaiting response... 200 OK\n",
      "Length: 245735 (240K) [text/plain]\n",
      "Saving to: ‘solubility.test.sdf.1’\n",
      "\n",
      "solubility.test.sdf 100%[===================>] 239,98K   994KB/s    in 0,2s    \n",
      "\n",
      "2022-04-06 14:05:56 (994 KB/s) - ‘solubility.test.sdf.1’ saved [245735/245735]\n",
      "\n"
     ]
    }
   ],
   "source": [
    "!cd data && wget https://raw.githubusercontent.com/rdkit/rdkit/master/Docs/Book/data/solubility.test.sdf"
   ]
  },
  {
   "cell_type": "markdown",
   "metadata": {},
   "source": [
    "\n",
    "Read molecules from this file and store them in a list named **list_molecule_test**.\n"
   ]
  },
  {
   "cell_type": "code",
   "execution_count": 13,
   "metadata": {},
   "outputs": [
    {
     "name": "stdout",
     "output_type": "stream",
     "text": [
      "we have 257 test molecules.\n"
     ]
    }
   ],
   "source": [
    "list_molecule_test = SDMolSupplier(\"data/solubility.test.sdf\", removeHs=False)\n",
    "\n",
    "print(f\"we have {len(list_molecule_test)} test molecules.\")"
   ]
  },
  {
   "cell_type": "markdown",
   "metadata": {},
   "source": [
    "\n",
    "Take a molecule from the **list_molecule_test** and then calculate its descriptions thank to the **calculate_descriptors(mol)** function that you've coded above.\n",
    "\n"
   ]
  },
  {
   "cell_type": "code",
   "execution_count": 14,
   "metadata": {},
   "outputs": [],
   "source": [
    "df_test = pd.DataFrame([calculate_descriptors(mol) for mol in list_molecule_test])\n",
    "\n",
    "test_labels = [float(mol.GetProp(\"SOL\")) for mol in list_molecule_test]\n",
    "\n",
    "na_list = df_test.isna().any(1)[df_test.isna().any(1) == True]\n",
    "test_labels = np.delete(np.array(test_labels), na_list.index)\n",
    "df_test.dropna(inplace=True)"
   ]
  },
  {
   "cell_type": "markdown",
   "metadata": {},
   "source": [
    "\n",
    "Apply **minmaxscaler** to these descriptors. Note that **minmaxscaler**  is one that you've created for the training (do not fit again, only transform !!)\n",
    "\n"
   ]
  },
  {
   "cell_type": "code",
   "execution_count": 15,
   "metadata": {},
   "outputs": [],
   "source": [
    "df_test = scaler.transform(df_test)"
   ]
  },
  {
   "cell_type": "markdown",
   "metadata": {},
   "source": [
    "\n",
    "Use the model that you've trained to predict the aqueous solubility (logS) of the molecule. Compare to the real logS value of the molecule.\n",
    "\n"
   ]
  },
  {
   "cell_type": "code",
   "execution_count": 16,
   "metadata": {
    "scrolled": true
   },
   "outputs": [
    {
     "data": {
      "text/plain": [
       "[<matplotlib.lines.Line2D at 0x7f38b58f4760>]"
      ]
     },
     "execution_count": 16,
     "metadata": {},
     "output_type": "execute_result"
    },
    {
     "data": {
      "image/png": "[encoded data removed]",
      "text/plain": [
       "<Figure size 432x288 with 1 Axes>"
      ]
     },
     "metadata": {
      "needs_background": "light"
     },
     "output_type": "display_data"
    }
   ],
   "source": [
    "test_predictions = regressor.predict(df_test)\n",
    "plt.plot(test_predictions)"
   ]
  },
  {
   "cell_type": "markdown",
   "metadata": {},
   "source": [
    "we have two extreme outliers, we remove them from the prediction but we keep in mind that their is a problem about isolated outliers."
   ]
  },
  {
   "cell_type": "code",
   "execution_count": 17,
   "metadata": {},
   "outputs": [],
   "source": [
    "sort_values = test_predictions.argsort()\n",
    "outliers_idx = sort_values[len(sort_values) - 2:]\n",
    "test_predictions = np.delete(test_predictions, outliers_idx)\n",
    "test_labels = np.delete(test_labels, outliers_idx)"
   ]
  },
  {
   "cell_type": "markdown",
   "metadata": {},
   "source": [
    "Calculate the mean square root error of the model for this data. Compare it to the one of training set. Does it overfit ? "
   ]
  },
  {
   "cell_type": "code",
   "execution_count": 18,
   "metadata": {
    "executionInfo": {
     "elapsed": 206,
     "status": "ok",
     "timestamp": 1629709843573,
     "user": {
      "displayName": "ngoc mac",
      "photoUrl": "",
      "userId": "17981024361133171440"
     },
     "user_tz": -120
    },
    "id": "SMo-oKP-Rhv-"
   },
   "outputs": [
    {
     "name": "stdout",
     "output_type": "stream",
     "text": [
      "MSE of linear regression is: 0.398\n"
     ]
    }
   ],
   "source": [
    "test_mse = mean_squared_error(test_predictions, test_labels)\n",
    "\n",
    "print(f\"MSE of linear regression is: {round(test_mse, 3)}\")"
   ]
  },
  {
   "cell_type": "markdown",
   "metadata": {},
   "source": [
    "The MSE value is pretty close to the train MS so we can't conclude that the model is overfitting. However, this test MSE is computed without extreme outliers so the conclusion needs to be in parenthesis."
   ]
  },
  {
   "cell_type": "markdown",
   "metadata": {},
   "source": [
    "### Other models (bonus)\n",
    "\n",
    "Try to do hyperparameter search to find better linear models (check regularisation) \n",
    "\n"
   ]
  },
  {
   "cell_type": "code",
   "execution_count": null,
   "metadata": {},
   "outputs": [],
   "source": []
  },
  {
   "cell_type": "markdown",
   "metadata": {},
   "source": [
    "Try to test with support vector machine"
   ]
  },
  {
   "cell_type": "markdown",
   "metadata": {},
   "source": []
  },
  {
   "cell_type": "markdown",
   "metadata": {},
   "source": [
    "Try to test with gradient boosting regressor"
   ]
  },
  {
   "cell_type": "code",
   "execution_count": null,
   "metadata": {},
   "outputs": [],
   "source": []
  },
  {
   "cell_type": "markdown",
   "metadata": {},
   "source": [
    "Try to test with a small Feedforward network"
   ]
  },
  {
   "cell_type": "code",
   "execution_count": null,
   "metadata": {},
   "outputs": [],
   "source": []
  }
 ],
 "metadata": {
  "colab": {
   "authorship_tag": "ABX9TyNoKXr8DpL6SE63xUQunF4I",
   "collapsed_sections": [],
   "name": "Rdkit_exercise.ipynb",
   "provenance": []
  },
  "kernelspec": {
   "display_name": "Python 3",
   "language": "python",
   "name": "python3"
  },
  "language_info": {
   "codemirror_mode": {
    "name": "ipython",
    "version": 3
   },
   "file_extension": ".py",
   "mimetype": "text/x-python",
   "name": "python",
   "nbconvert_exporter": "python",
   "pygments_lexer": "ipython3",
   "version": "3.9.12"
  }
 },
 "nbformat": 4,
 "nbformat_minor": 1
}
